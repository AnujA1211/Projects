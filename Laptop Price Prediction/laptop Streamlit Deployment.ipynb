{
 "cells": [
  {
   "cell_type": "markdown",
   "id": "8a070158",
   "metadata": {},
   "source": [
    "# <center> Laptop Price Prediction"
   ]
  },
  {
   "cell_type": "markdown",
   "id": "4ed343bb",
   "metadata": {},
   "source": [
    "### Importing the necessary Libraries"
   ]
  },
  {
   "cell_type": "code",
   "execution_count": 1,
   "id": "c75d1187",
   "metadata": {},
   "outputs": [],
   "source": [
    "import pandas as pd\n",
    "import numpy as np\n",
    "import matplotlib.pyplot as plt\n",
    "import seaborn as sns\n",
    "from sklearn.preprocessing import LabelEncoder\n",
    "from sklearn.model_selection import GridSearchCV, train_test_split\n",
    "from sklearn.linear_model import LinearRegression, Lasso, Ridge\n",
    "from sklearn.tree import DecisionTreeRegressor\n",
    "from sklearn.svm import SVR, LinearSVR\n",
    "from sklearn.ensemble import AdaBoostRegressor, GradientBoostingRegressor, HistGradientBoostingRegressor, RandomForestRegressor\n",
    "from sklearn.metrics import r2_score, mean_absolute_error, mean_squared_error\n",
    "import warnings\n",
    "warnings.filterwarnings(\"ignore\")\n",
    "import pickle"
   ]
  },
  {
   "cell_type": "code",
   "execution_count": 2,
   "id": "ba0ac907",
   "metadata": {},
   "outputs": [
    {
     "data": {
      "text/html": [
       "<div>\n",
       "<style scoped>\n",
       "    .dataframe tbody tr th:only-of-type {\n",
       "        vertical-align: middle;\n",
       "    }\n",
       "\n",
       "    .dataframe tbody tr th {\n",
       "        vertical-align: top;\n",
       "    }\n",
       "\n",
       "    .dataframe thead th {\n",
       "        text-align: right;\n",
       "    }\n",
       "</style>\n",
       "<table border=\"1\" class=\"dataframe\">\n",
       "  <thead>\n",
       "    <tr style=\"text-align: right;\">\n",
       "      <th></th>\n",
       "      <th>brand</th>\n",
       "      <th>operating_system</th>\n",
       "      <th>RAM_nth</th>\n",
       "      <th>storage_nth</th>\n",
       "      <th>storage_type</th>\n",
       "      <th>cpu_benchmark</th>\n",
       "      <th>gpu_class</th>\n",
       "      <th>screen_size</th>\n",
       "      <th>PPI</th>\n",
       "      <th>warranty</th>\n",
       "      <th>refurbished</th>\n",
       "      <th>price</th>\n",
       "    </tr>\n",
       "  </thead>\n",
       "  <tbody>\n",
       "    <tr>\n",
       "      <th>0</th>\n",
       "      <td>LENOVO</td>\n",
       "      <td>WINDOWS</td>\n",
       "      <td>2</td>\n",
       "      <td>6.906891</td>\n",
       "      <td>SSD</td>\n",
       "      <td>2501</td>\n",
       "      <td>4</td>\n",
       "      <td>15.6</td>\n",
       "      <td>141</td>\n",
       "      <td>0.0</td>\n",
       "      <td>YES</td>\n",
       "      <td>235.99</td>\n",
       "    </tr>\n",
       "    <tr>\n",
       "      <th>1</th>\n",
       "      <td>ASUS</td>\n",
       "      <td>WINDOWS</td>\n",
       "      <td>2</td>\n",
       "      <td>7.000000</td>\n",
       "      <td>SSD</td>\n",
       "      <td>3048</td>\n",
       "      <td>3</td>\n",
       "      <td>15.6</td>\n",
       "      <td>141</td>\n",
       "      <td>1.0</td>\n",
       "      <td>YES</td>\n",
       "      <td>236.99</td>\n",
       "    </tr>\n",
       "    <tr>\n",
       "      <th>2</th>\n",
       "      <td>LENOVO</td>\n",
       "      <td>WINDOWS</td>\n",
       "      <td>2</td>\n",
       "      <td>7.000000</td>\n",
       "      <td>SSD</td>\n",
       "      <td>3685</td>\n",
       "      <td>3</td>\n",
       "      <td>15.6</td>\n",
       "      <td>94</td>\n",
       "      <td>0.0</td>\n",
       "      <td>YES</td>\n",
       "      <td>259.99</td>\n",
       "    </tr>\n",
       "    <tr>\n",
       "      <th>3</th>\n",
       "      <td>HP</td>\n",
       "      <td>WINDOWS</td>\n",
       "      <td>2</td>\n",
       "      <td>7.000000</td>\n",
       "      <td>SSD</td>\n",
       "      <td>2689</td>\n",
       "      <td>4</td>\n",
       "      <td>15.6</td>\n",
       "      <td>94</td>\n",
       "      <td>0.0</td>\n",
       "      <td>YES</td>\n",
       "      <td>223.49</td>\n",
       "    </tr>\n",
       "    <tr>\n",
       "      <th>4</th>\n",
       "      <td>DELL</td>\n",
       "      <td>WINDOWS</td>\n",
       "      <td>3</td>\n",
       "      <td>7.000000</td>\n",
       "      <td>SSD</td>\n",
       "      <td>3256</td>\n",
       "      <td>3</td>\n",
       "      <td>14.0</td>\n",
       "      <td>157</td>\n",
       "      <td>0.0</td>\n",
       "      <td>YES</td>\n",
       "      <td>374.49</td>\n",
       "    </tr>\n",
       "  </tbody>\n",
       "</table>\n",
       "</div>"
      ],
      "text/plain": [
       "    brand operating_system  RAM_nth  storage_nth storage_type  cpu_benchmark  \\\n",
       "0  LENOVO          WINDOWS        2     6.906891          SSD           2501   \n",
       "1    ASUS          WINDOWS        2     7.000000          SSD           3048   \n",
       "2  LENOVO          WINDOWS        2     7.000000          SSD           3685   \n",
       "3      HP          WINDOWS        2     7.000000          SSD           2689   \n",
       "4    DELL          WINDOWS        3     7.000000          SSD           3256   \n",
       "\n",
       "   gpu_class  screen_size  PPI  warranty refurbished   price  \n",
       "0          4         15.6  141       0.0         YES  235.99  \n",
       "1          3         15.6  141       1.0         YES  236.99  \n",
       "2          3         15.6   94       0.0         YES  259.99  \n",
       "3          4         15.6   94       0.0         YES  223.49  \n",
       "4          3         14.0  157       0.0         YES  374.49  "
      ]
     },
     "execution_count": 2,
     "metadata": {},
     "output_type": "execute_result"
    }
   ],
   "source": [
    "df = pd.read_csv(\"./Clean laptop data.csv\") #, encoding= 'unicode_escape')\n",
    "df.head()"
   ]
  },
  {
   "cell_type": "markdown",
   "id": "8be3f8db",
   "metadata": {},
   "source": [
    "### Descriptive Statistics"
   ]
  },
  {
   "cell_type": "code",
   "execution_count": 3,
   "id": "362310db",
   "metadata": {},
   "outputs": [
    {
     "data": {
      "text/html": [
       "<div>\n",
       "<style scoped>\n",
       "    .dataframe tbody tr th:only-of-type {\n",
       "        vertical-align: middle;\n",
       "    }\n",
       "\n",
       "    .dataframe tbody tr th {\n",
       "        vertical-align: top;\n",
       "    }\n",
       "\n",
       "    .dataframe thead th {\n",
       "        text-align: right;\n",
       "    }\n",
       "</style>\n",
       "<table border=\"1\" class=\"dataframe\">\n",
       "  <thead>\n",
       "    <tr style=\"text-align: right;\">\n",
       "      <th></th>\n",
       "      <th>count</th>\n",
       "      <th>mean</th>\n",
       "      <th>std</th>\n",
       "      <th>min</th>\n",
       "      <th>25%</th>\n",
       "      <th>50%</th>\n",
       "      <th>75%</th>\n",
       "      <th>max</th>\n",
       "    </tr>\n",
       "  </thead>\n",
       "  <tbody>\n",
       "    <tr>\n",
       "      <th>RAM_nth</th>\n",
       "      <td>1001.0</td>\n",
       "      <td>3.367632</td>\n",
       "      <td>0.799194</td>\n",
       "      <td>1.00</td>\n",
       "      <td>3.00</td>\n",
       "      <td>3.00</td>\n",
       "      <td>4.00</td>\n",
       "      <td>6.000000</td>\n",
       "    </tr>\n",
       "    <tr>\n",
       "      <th>storage_nth</th>\n",
       "      <td>1001.0</td>\n",
       "      <td>8.423842</td>\n",
       "      <td>1.165340</td>\n",
       "      <td>4.00</td>\n",
       "      <td>8.00</td>\n",
       "      <td>8.00</td>\n",
       "      <td>9.00</td>\n",
       "      <td>10.965784</td>\n",
       "    </tr>\n",
       "    <tr>\n",
       "      <th>cpu_benchmark</th>\n",
       "      <td>1001.0</td>\n",
       "      <td>12691.523477</td>\n",
       "      <td>7597.321238</td>\n",
       "      <td>548.00</td>\n",
       "      <td>7607.00</td>\n",
       "      <td>10505.00</td>\n",
       "      <td>17163.00</td>\n",
       "      <td>41175.000000</td>\n",
       "    </tr>\n",
       "    <tr>\n",
       "      <th>gpu_class</th>\n",
       "      <td>1001.0</td>\n",
       "      <td>2.724276</td>\n",
       "      <td>0.773240</td>\n",
       "      <td>1.00</td>\n",
       "      <td>2.00</td>\n",
       "      <td>3.00</td>\n",
       "      <td>3.00</td>\n",
       "      <td>4.000000</td>\n",
       "    </tr>\n",
       "    <tr>\n",
       "      <th>screen_size</th>\n",
       "      <td>1001.0</td>\n",
       "      <td>14.638561</td>\n",
       "      <td>1.333751</td>\n",
       "      <td>10.10</td>\n",
       "      <td>14.00</td>\n",
       "      <td>14.00</td>\n",
       "      <td>15.60</td>\n",
       "      <td>17.300000</td>\n",
       "    </tr>\n",
       "    <tr>\n",
       "      <th>PPI</th>\n",
       "      <td>1001.0</td>\n",
       "      <td>158.789211</td>\n",
       "      <td>34.039426</td>\n",
       "      <td>94.00</td>\n",
       "      <td>141.00</td>\n",
       "      <td>157.00</td>\n",
       "      <td>166.00</td>\n",
       "      <td>338.000000</td>\n",
       "    </tr>\n",
       "    <tr>\n",
       "      <th>warranty</th>\n",
       "      <td>1001.0</td>\n",
       "      <td>1.293457</td>\n",
       "      <td>0.919774</td>\n",
       "      <td>0.00</td>\n",
       "      <td>1.00</td>\n",
       "      <td>1.00</td>\n",
       "      <td>1.00</td>\n",
       "      <td>3.250000</td>\n",
       "    </tr>\n",
       "    <tr>\n",
       "      <th>price</th>\n",
       "      <td>1001.0</td>\n",
       "      <td>1071.419041</td>\n",
       "      <td>791.968578</td>\n",
       "      <td>95.99</td>\n",
       "      <td>499.99</td>\n",
       "      <td>861.49</td>\n",
       "      <td>1410.49</td>\n",
       "      <td>5987.490000</td>\n",
       "    </tr>\n",
       "  </tbody>\n",
       "</table>\n",
       "</div>"
      ],
      "text/plain": [
       "                count          mean          std     min      25%       50%  \\\n",
       "RAM_nth        1001.0      3.367632     0.799194    1.00     3.00      3.00   \n",
       "storage_nth    1001.0      8.423842     1.165340    4.00     8.00      8.00   \n",
       "cpu_benchmark  1001.0  12691.523477  7597.321238  548.00  7607.00  10505.00   \n",
       "gpu_class      1001.0      2.724276     0.773240    1.00     2.00      3.00   \n",
       "screen_size    1001.0     14.638561     1.333751   10.10    14.00     14.00   \n",
       "PPI            1001.0    158.789211    34.039426   94.00   141.00    157.00   \n",
       "warranty       1001.0      1.293457     0.919774    0.00     1.00      1.00   \n",
       "price          1001.0   1071.419041   791.968578   95.99   499.99    861.49   \n",
       "\n",
       "                    75%           max  \n",
       "RAM_nth            4.00      6.000000  \n",
       "storage_nth        9.00     10.965784  \n",
       "cpu_benchmark  17163.00  41175.000000  \n",
       "gpu_class          3.00      4.000000  \n",
       "screen_size       15.60     17.300000  \n",
       "PPI              166.00    338.000000  \n",
       "warranty           1.00      3.250000  \n",
       "price           1410.49   5987.490000  "
      ]
     },
     "execution_count": 3,
     "metadata": {},
     "output_type": "execute_result"
    }
   ],
   "source": [
    "df.describe().T"
   ]
  },
  {
   "cell_type": "code",
   "execution_count": 4,
   "id": "4ec652b7",
   "metadata": {},
   "outputs": [
    {
     "name": "stdout",
     "output_type": "stream",
     "text": [
      "<class 'pandas.core.frame.DataFrame'>\n",
      "RangeIndex: 1001 entries, 0 to 1000\n",
      "Data columns (total 12 columns):\n",
      " #   Column            Non-Null Count  Dtype  \n",
      "---  ------            --------------  -----  \n",
      " 0   brand             1001 non-null   object \n",
      " 1   operating_system  1001 non-null   object \n",
      " 2   RAM_nth           1001 non-null   int64  \n",
      " 3   storage_nth       1001 non-null   float64\n",
      " 4   storage_type      1001 non-null   object \n",
      " 5   cpu_benchmark     1001 non-null   int64  \n",
      " 6   gpu_class         1001 non-null   int64  \n",
      " 7   screen_size       1001 non-null   float64\n",
      " 8   PPI               1001 non-null   int64  \n",
      " 9   warranty          1001 non-null   float64\n",
      " 10  refurbished       1001 non-null   object \n",
      " 11  price             1001 non-null   float64\n",
      "dtypes: float64(4), int64(4), object(4)\n",
      "memory usage: 94.0+ KB\n"
     ]
    }
   ],
   "source": [
    "df.info()"
   ]
  },
  {
   "cell_type": "markdown",
   "id": "5813e30e",
   "metadata": {},
   "source": [
    "### Checking for null percentage"
   ]
  },
  {
   "cell_type": "code",
   "execution_count": 5,
   "id": "312f05bf",
   "metadata": {
    "scrolled": false
   },
   "outputs": [
    {
     "data": {
      "text/plain": [
       "brand               0.0\n",
       "operating_system    0.0\n",
       "RAM_nth             0.0\n",
       "storage_nth         0.0\n",
       "storage_type        0.0\n",
       "cpu_benchmark       0.0\n",
       "gpu_class           0.0\n",
       "screen_size         0.0\n",
       "PPI                 0.0\n",
       "warranty            0.0\n",
       "refurbished         0.0\n",
       "price               0.0\n",
       "dtype: float64"
      ]
     },
     "execution_count": 5,
     "metadata": {},
     "output_type": "execute_result"
    }
   ],
   "source": [
    "df.isnull().mean()*100"
   ]
  },
  {
   "cell_type": "markdown",
   "id": "92d70455",
   "metadata": {},
   "source": [
    "##### There are no null values."
   ]
  },
  {
   "cell_type": "markdown",
   "id": "4876fb24",
   "metadata": {},
   "source": [
    "#### Checking for duplicate values"
   ]
  },
  {
   "cell_type": "code",
   "execution_count": 6,
   "id": "e00ea26a",
   "metadata": {},
   "outputs": [
    {
     "data": {
      "text/plain": [
       "29"
      ]
     },
     "execution_count": 6,
     "metadata": {},
     "output_type": "execute_result"
    }
   ],
   "source": [
    "df.duplicated().sum()"
   ]
  },
  {
   "cell_type": "markdown",
   "id": "a3cdf2f8",
   "metadata": {},
   "source": [
    "##### There are 29 duplicates in the dataset. So we are dropping the duplicate rows."
   ]
  },
  {
   "cell_type": "code",
   "execution_count": 7,
   "id": "b1f19070",
   "metadata": {},
   "outputs": [],
   "source": [
    "df.drop_duplicates(inplace= True)"
   ]
  },
  {
   "cell_type": "markdown",
   "id": "fb080267",
   "metadata": {},
   "source": [
    "#### Shape of the dataset"
   ]
  },
  {
   "cell_type": "code",
   "execution_count": 8,
   "id": "810c08a0",
   "metadata": {},
   "outputs": [
    {
     "data": {
      "text/plain": [
       "(972, 12)"
      ]
     },
     "execution_count": 8,
     "metadata": {},
     "output_type": "execute_result"
    }
   ],
   "source": [
    "df.shape"
   ]
  },
  {
   "cell_type": "markdown",
   "id": "1153b572",
   "metadata": {},
   "source": [
    "##### There are 972 records and 12 columns"
   ]
  },
  {
   "cell_type": "markdown",
   "id": "8698c945",
   "metadata": {},
   "source": [
    "#### Unique values in the categorical columns"
   ]
  },
  {
   "cell_type": "code",
   "execution_count": 9,
   "id": "44201e82",
   "metadata": {},
   "outputs": [
    {
     "data": {
      "text/plain": [
       "Index(['brand', 'operating_system', 'RAM_nth', 'storage_nth', 'storage_type',\n",
       "       'cpu_benchmark', 'gpu_class', 'screen_size', 'PPI', 'warranty',\n",
       "       'refurbished', 'price'],\n",
       "      dtype='object')"
      ]
     },
     "execution_count": 9,
     "metadata": {},
     "output_type": "execute_result"
    }
   ],
   "source": [
    "df.columns"
   ]
  },
  {
   "cell_type": "code",
   "execution_count": 10,
   "id": "03884678",
   "metadata": {},
   "outputs": [
    {
     "data": {
      "text/plain": [
       "array(['LENOVO', 'ASUS', 'HP', 'DELL', 'ACER', 'MSI', 'MEDION', 'RAZER',\n",
       "       'OTHER', 'GEO', 'APPLE', 'CHILLBLAST', 'AVITA', 'FUJITSU',\n",
       "       'DYNABOOK'], dtype=object)"
      ]
     },
     "execution_count": 10,
     "metadata": {},
     "output_type": "execute_result"
    }
   ],
   "source": [
    "df.brand.unique()"
   ]
  },
  {
   "cell_type": "code",
   "execution_count": 11,
   "id": "400e1c4e",
   "metadata": {},
   "outputs": [
    {
     "data": {
      "text/plain": [
       "array(['WINDOWS', 'CHROMEOS', 'MACOS'], dtype=object)"
      ]
     },
     "execution_count": 11,
     "metadata": {},
     "output_type": "execute_result"
    }
   ],
   "source": [
    "df.operating_system.unique()"
   ]
  },
  {
   "cell_type": "code",
   "execution_count": 12,
   "id": "8ddaee43",
   "metadata": {},
   "outputs": [
    {
     "data": {
      "text/plain": [
       "array(['SSD', 'EMMC'], dtype=object)"
      ]
     },
     "execution_count": 12,
     "metadata": {},
     "output_type": "execute_result"
    }
   ],
   "source": [
    "df.storage_type.unique()"
   ]
  },
  {
   "cell_type": "code",
   "execution_count": 13,
   "id": "29c3cc00",
   "metadata": {},
   "outputs": [
    {
     "data": {
      "text/plain": [
       "array(['YES', 'NO'], dtype=object)"
      ]
     },
     "execution_count": 13,
     "metadata": {},
     "output_type": "execute_result"
    }
   ],
   "source": [
    "df.refurbished.unique()"
   ]
  },
  {
   "cell_type": "code",
   "execution_count": 14,
   "id": "5044a4fd",
   "metadata": {
    "scrolled": false
   },
   "outputs": [
    {
     "data": {
      "image/png": "[encoded data removed]",
      "text/plain": [
       "<Figure size 640x480 with 1 Axes>"
      ]
     },
     "metadata": {},
     "output_type": "display_data"
    },
    {
     "data": {
      "image/png": "[encoded data removed]",
      "text/plain": [
       "<Figure size 640x480 with 1 Axes>"
      ]
     },
     "metadata": {},
     "output_type": "display_data"
    },
    {
     "data": {
      "image/png": "[encoded data removed]",
      "text/plain": [
       "<Figure size 640x480 with 1 Axes>"
      ]
     },
     "metadata": {},
     "output_type": "display_data"
    },
    {
     "data": {
      "image/png": "[encoded data removed]",
      "text/plain": [
       "<Figure size 640x480 with 1 Axes>"
      ]
     },
     "metadata": {},
     "output_type": "display_data"
    },
    {
     "data": {
      "image/png": "[encoded data removed]",
      "text/plain": [
       "<Figure size 640x480 with 1 Axes>"
      ]
     },
     "metadata": {},
     "output_type": "display_data"
    },
    {
     "data": {
      "image/png": "[encoded data removed]",
      "text/plain": [
       "<Figure size 640x480 with 1 Axes>"
      ]
     },
     "metadata": {},
     "output_type": "display_data"
    },
    {
     "data": {
      "image/png": "[encoded data removed]",
      "text/plain": [
       "<Figure size 640x480 with 1 Axes>"
      ]
     },
     "metadata": {},
     "output_type": "display_data"
    },
    {
     "data": {
      "image/png": "[encoded data removed]",
      "text/plain": [
       "<Figure size 640x480 with 1 Axes>"
      ]
     },
     "metadata": {},
     "output_type": "display_data"
    }
   ],
   "source": [
    "for i in df.columns:\n",
    "    if df[i].dtype != 'object':\n",
    "        sns.boxplot(data = df, y = df[i])\n",
    "        plt.show()"
   ]
  },
  {
   "cell_type": "code",
   "execution_count": 15,
   "id": "1eb6c041",
   "metadata": {},
   "outputs": [],
   "source": [
    "def outlier_limit(col):\n",
    "    Q3, Q1 = np.nanpercentile(col, [75,25])\n",
    "    IQR = Q3 - Q1\n",
    "    UL = Q3 + 1.5 * IQR\n",
    "    LL = Q1 - 1.5 * IQR\n",
    "    return UL, LL"
   ]
  },
  {
   "cell_type": "code",
   "execution_count": 16,
   "id": "7a50acfe",
   "metadata": {},
   "outputs": [],
   "source": [
    "UL, LL = outlier_limit(df['price'])\n",
    "df['price'] = np.where((df['price']> UL) | (df['price']<LL), np.nan, df['price'])"
   ]
  },
  {
   "cell_type": "code",
   "execution_count": 17,
   "id": "c6639fe7",
   "metadata": {},
   "outputs": [
    {
     "data": {
      "image/png": "[encoded data removed]",
      "text/plain": [
       "<Figure size 640x480 with 1 Axes>"
      ]
     },
     "metadata": {},
     "output_type": "display_data"
    }
   ],
   "source": [
    "sns.boxplot(data = df, y = 'price')\n",
    "plt.show()"
   ]
  },
  {
   "cell_type": "code",
   "execution_count": 18,
   "id": "b6c09059",
   "metadata": {
    "scrolled": true
   },
   "outputs": [
    {
     "data": {
      "text/plain": [
       "brand               0.000000\n",
       "operating_system    0.000000\n",
       "RAM_nth             0.000000\n",
       "storage_nth         0.000000\n",
       "storage_type        0.000000\n",
       "cpu_benchmark       0.000000\n",
       "gpu_class           0.000000\n",
       "screen_size         0.000000\n",
       "PPI                 0.000000\n",
       "warranty            0.000000\n",
       "refurbished         0.000000\n",
       "price               3.806584\n",
       "dtype: float64"
      ]
     },
     "execution_count": 18,
     "metadata": {},
     "output_type": "execute_result"
    }
   ],
   "source": [
    "df.isnull().mean()*100"
   ]
  },
  {
   "cell_type": "code",
   "execution_count": 19,
   "id": "3f26c33c",
   "metadata": {},
   "outputs": [],
   "source": [
    "df.dropna(inplace= True)"
   ]
  },
  {
   "cell_type": "code",
   "execution_count": 20,
   "id": "f4c92bb2",
   "metadata": {},
   "outputs": [],
   "source": [
    "le = LabelEncoder()"
   ]
  },
  {
   "cell_type": "code",
   "execution_count": 21,
   "id": "f9e711ba",
   "metadata": {},
   "outputs": [],
   "source": [
    "for i in df.columns:\n",
    "    if df[i].dtype == 'object':\n",
    "        df[i] = le.fit_transform(df[i])"
   ]
  },
  {
   "cell_type": "code",
   "execution_count": 22,
   "id": "903616f3",
   "metadata": {},
   "outputs": [
    {
     "data": {
      "image/png": "[encoded data removed]",
      "text/plain": [
       "<Figure size 640x480 with 2 Axes>"
      ]
     },
     "metadata": {},
     "output_type": "display_data"
    }
   ],
   "source": [
    "sns.heatmap(df.corr()[['price']].sort_values(by= 'price', ascending = False), vmin= -1, vmax= 1, annot= True)\n",
    "plt.show()"
   ]
  },
  {
   "cell_type": "code",
   "execution_count": 23,
   "id": "459ee462",
   "metadata": {},
   "outputs": [
    {
     "data": {
      "text/html": [
       "<div>\n",
       "<style scoped>\n",
       "    .dataframe tbody tr th:only-of-type {\n",
       "        vertical-align: middle;\n",
       "    }\n",
       "\n",
       "    .dataframe tbody tr th {\n",
       "        vertical-align: top;\n",
       "    }\n",
       "\n",
       "    .dataframe thead th {\n",
       "        text-align: right;\n",
       "    }\n",
       "</style>\n",
       "<table border=\"1\" class=\"dataframe\">\n",
       "  <thead>\n",
       "    <tr style=\"text-align: right;\">\n",
       "      <th></th>\n",
       "      <th>brand</th>\n",
       "      <th>operating_system</th>\n",
       "      <th>RAM_nth</th>\n",
       "      <th>storage_nth</th>\n",
       "      <th>storage_type</th>\n",
       "      <th>cpu_benchmark</th>\n",
       "      <th>gpu_class</th>\n",
       "      <th>screen_size</th>\n",
       "      <th>PPI</th>\n",
       "      <th>warranty</th>\n",
       "      <th>refurbished</th>\n",
       "      <th>price</th>\n",
       "    </tr>\n",
       "  </thead>\n",
       "  <tbody>\n",
       "    <tr>\n",
       "      <th>0</th>\n",
       "      <td>10</td>\n",
       "      <td>2</td>\n",
       "      <td>2</td>\n",
       "      <td>6.906891</td>\n",
       "      <td>1</td>\n",
       "      <td>2501</td>\n",
       "      <td>4</td>\n",
       "      <td>15.6</td>\n",
       "      <td>141</td>\n",
       "      <td>0.0</td>\n",
       "      <td>1</td>\n",
       "      <td>235.99</td>\n",
       "    </tr>\n",
       "    <tr>\n",
       "      <th>1</th>\n",
       "      <td>2</td>\n",
       "      <td>2</td>\n",
       "      <td>2</td>\n",
       "      <td>7.000000</td>\n",
       "      <td>1</td>\n",
       "      <td>3048</td>\n",
       "      <td>3</td>\n",
       "      <td>15.6</td>\n",
       "      <td>141</td>\n",
       "      <td>1.0</td>\n",
       "      <td>1</td>\n",
       "      <td>236.99</td>\n",
       "    </tr>\n",
       "    <tr>\n",
       "      <th>2</th>\n",
       "      <td>10</td>\n",
       "      <td>2</td>\n",
       "      <td>2</td>\n",
       "      <td>7.000000</td>\n",
       "      <td>1</td>\n",
       "      <td>3685</td>\n",
       "      <td>3</td>\n",
       "      <td>15.6</td>\n",
       "      <td>94</td>\n",
       "      <td>0.0</td>\n",
       "      <td>1</td>\n",
       "      <td>259.99</td>\n",
       "    </tr>\n",
       "    <tr>\n",
       "      <th>3</th>\n",
       "      <td>9</td>\n",
       "      <td>2</td>\n",
       "      <td>2</td>\n",
       "      <td>7.000000</td>\n",
       "      <td>1</td>\n",
       "      <td>2689</td>\n",
       "      <td>4</td>\n",
       "      <td>15.6</td>\n",
       "      <td>94</td>\n",
       "      <td>0.0</td>\n",
       "      <td>1</td>\n",
       "      <td>223.49</td>\n",
       "    </tr>\n",
       "    <tr>\n",
       "      <th>4</th>\n",
       "      <td>5</td>\n",
       "      <td>2</td>\n",
       "      <td>3</td>\n",
       "      <td>7.000000</td>\n",
       "      <td>1</td>\n",
       "      <td>3256</td>\n",
       "      <td>3</td>\n",
       "      <td>14.0</td>\n",
       "      <td>157</td>\n",
       "      <td>0.0</td>\n",
       "      <td>1</td>\n",
       "      <td>374.49</td>\n",
       "    </tr>\n",
       "  </tbody>\n",
       "</table>\n",
       "</div>"
      ],
      "text/plain": [
       "   brand  operating_system  RAM_nth  storage_nth  storage_type  cpu_benchmark  \\\n",
       "0     10                 2        2     6.906891             1           2501   \n",
       "1      2                 2        2     7.000000             1           3048   \n",
       "2     10                 2        2     7.000000             1           3685   \n",
       "3      9                 2        2     7.000000             1           2689   \n",
       "4      5                 2        3     7.000000             1           3256   \n",
       "\n",
       "   gpu_class  screen_size  PPI  warranty  refurbished   price  \n",
       "0          4         15.6  141       0.0            1  235.99  \n",
       "1          3         15.6  141       1.0            1  236.99  \n",
       "2          3         15.6   94       0.0            1  259.99  \n",
       "3          4         15.6   94       0.0            1  223.49  \n",
       "4          3         14.0  157       0.0            1  374.49  "
      ]
     },
     "execution_count": 23,
     "metadata": {},
     "output_type": "execute_result"
    }
   ],
   "source": [
    "df.head()"
   ]
  },
  {
   "cell_type": "code",
   "execution_count": 24,
   "id": "40e108bd",
   "metadata": {},
   "outputs": [],
   "source": [
    "x = df.iloc[:, :-1].values\n",
    "y = df.iloc[:, -1].values"
   ]
  },
  {
   "cell_type": "code",
   "execution_count": 25,
   "id": "6d435d4c",
   "metadata": {},
   "outputs": [],
   "source": [
    "x_train, x_test, y_train, y_test = train_test_split(x, y, test_size= .20, random_state= 42, shuffle= True)"
   ]
  },
  {
   "cell_type": "code",
   "execution_count": 26,
   "id": "1dbaa365",
   "metadata": {},
   "outputs": [],
   "source": [
    "from sklearn.feature_selection import f_regression, SelectKBest"
   ]
  },
  {
   "cell_type": "code",
   "execution_count": 27,
   "id": "db1d54f8",
   "metadata": {},
   "outputs": [],
   "source": [
    "fs = SelectKBest(score_func= f_regression, k = 'all')"
   ]
  },
  {
   "cell_type": "code",
   "execution_count": 28,
   "id": "e9a56b43",
   "metadata": {},
   "outputs": [
    {
     "data": {
      "text/html": [
       "<style>#sk-container-id-1 {color: black;background-color: white;}#sk-container-id-1 pre{padding: 0;}#sk-container-id-1 div.sk-toggleable {background-color: white;}#sk-container-id-1 label.sk-toggleable__label {cursor: pointer;display: block;width: 100%;margin-bottom: 0;padding: 0.3em;box-sizing: border-box;text-align: center;}#sk-container-id-1 label.sk-toggleable__label-arrow:before {content: \"▸\";float: left;margin-right: 0.25em;color: #696969;}#sk-container-id-1 label.sk-toggleable__label-arrow:hover:before {color: black;}#sk-container-id-1 div.sk-estimator:hover label.sk-toggleable__label-arrow:before {color: black;}#sk-container-id-1 div.sk-toggleable__content {max-height: 0;max-width: 0;overflow: hidden;text-align: left;background-color: #f0f8ff;}#sk-container-id-1 div.sk-toggleable__content pre {margin: 0.2em;color: black;border-radius: 0.25em;background-color: #f0f8ff;}#sk-container-id-1 input.sk-toggleable__control:checked~div.sk-toggleable__content {max-height: 200px;max-width: 100%;overflow: auto;}#sk-container-id-1 input.sk-toggleable__control:checked~label.sk-toggleable__label-arrow:before {content: \"▾\";}#sk-container-id-1 div.sk-estimator input.sk-toggleable__control:checked~label.sk-toggleable__label {background-color: #d4ebff;}#sk-container-id-1 div.sk-label input.sk-toggleable__control:checked~label.sk-toggleable__label {background-color: #d4ebff;}#sk-container-id-1 input.sk-hidden--visually {border: 0;clip: rect(1px 1px 1px 1px);clip: rect(1px, 1px, 1px, 1px);height: 1px;margin: -1px;overflow: hidden;padding: 0;position: absolute;width: 1px;}#sk-container-id-1 div.sk-estimator {font-family: monospace;background-color: #f0f8ff;border: 1px dotted black;border-radius: 0.25em;box-sizing: border-box;margin-bottom: 0.5em;}#sk-container-id-1 div.sk-estimator:hover {background-color: #d4ebff;}#sk-container-id-1 div.sk-parallel-item::after {content: \"\";width: 100%;border-bottom: 1px solid gray;flex-grow: 1;}#sk-container-id-1 div.sk-label:hover label.sk-toggleable__label {background-color: #d4ebff;}#sk-container-id-1 div.sk-serial::before {content: \"\";position: absolute;border-left: 1px solid gray;box-sizing: border-box;top: 0;bottom: 0;left: 50%;z-index: 0;}#sk-container-id-1 div.sk-serial {display: flex;flex-direction: column;align-items: center;background-color: white;padding-right: 0.2em;padding-left: 0.2em;position: relative;}#sk-container-id-1 div.sk-item {position: relative;z-index: 1;}#sk-container-id-1 div.sk-parallel {display: flex;align-items: stretch;justify-content: center;background-color: white;position: relative;}#sk-container-id-1 div.sk-item::before, #sk-container-id-1 div.sk-parallel-item::before {content: \"\";position: absolute;border-left: 1px solid gray;box-sizing: border-box;top: 0;bottom: 0;left: 50%;z-index: -1;}#sk-container-id-1 div.sk-parallel-item {display: flex;flex-direction: column;z-index: 1;position: relative;background-color: white;}#sk-container-id-1 div.sk-parallel-item:first-child::after {align-self: flex-end;width: 50%;}#sk-container-id-1 div.sk-parallel-item:last-child::after {align-self: flex-start;width: 50%;}#sk-container-id-1 div.sk-parallel-item:only-child::after {width: 0;}#sk-container-id-1 div.sk-dashed-wrapped {border: 1px dashed gray;margin: 0 0.4em 0.5em 0.4em;box-sizing: border-box;padding-bottom: 0.4em;background-color: white;}#sk-container-id-1 div.sk-label label {font-family: monospace;font-weight: bold;display: inline-block;line-height: 1.2em;}#sk-container-id-1 div.sk-label-container {text-align: center;}#sk-container-id-1 div.sk-container {/* jupyter's `normalize.less` sets `[hidden] { display: none; }` but bootstrap.min.css set `[hidden] { display: none !important; }` so we also need the `!important` here to be able to override the default hidden behavior on the sphinx rendered scikit-learn.org. See: https://github.com/scikit-learn/scikit-learn/issues/21755 */display: inline-block !important;position: relative;}#sk-container-id-1 div.sk-text-repr-fallback {display: none;}</style><div id=\"sk-container-id-1\" class=\"sk-top-container\"><div class=\"sk-text-repr-fallback\"><pre>SelectKBest(k=&#x27;all&#x27;, score_func=&lt;function f_regression at 0x000001A3AD830DC0&gt;)</pre><b>In a Jupyter environment, please rerun this cell to show the HTML representation or trust the notebook. <br />On GitHub, the HTML representation is unable to render, please try loading this page with nbviewer.org.</b></div><div class=\"sk-container\" hidden><div class=\"sk-item\"><div class=\"sk-estimator sk-toggleable\"><input class=\"sk-toggleable__control sk-hidden--visually\" id=\"sk-estimator-id-1\" type=\"checkbox\" checked><label for=\"sk-estimator-id-1\" class=\"sk-toggleable__label sk-toggleable__label-arrow\">SelectKBest</label><div class=\"sk-toggleable__content\"><pre>SelectKBest(k=&#x27;all&#x27;, score_func=&lt;function f_regression at 0x000001A3AD830DC0&gt;)</pre></div></div></div></div></div>"
      ],
      "text/plain": [
       "SelectKBest(k='all', score_func=<function f_regression at 0x000001A3AD830DC0>)"
      ]
     },
     "execution_count": 28,
     "metadata": {},
     "output_type": "execute_result"
    }
   ],
   "source": [
    "fs.fit(x_train, y_train)"
   ]
  },
  {
   "cell_type": "code",
   "execution_count": 29,
   "id": "d03aeaa1",
   "metadata": {},
   "outputs": [
    {
     "name": "stdout",
     "output_type": "stream",
     "text": [
      "Feature is : 0 and score is 8.529066556232047\n",
      "Feature is : 1 and score is 23.851836858799235\n",
      "Feature is : 2 and score is 1102.5071179203462\n",
      "Feature is : 3 and score is 666.3070965522088\n",
      "Feature is : 4 and score is 100.01779318094853\n",
      "Feature is : 5 and score is 1199.9059310519613\n",
      "Feature is : 6 and score is 800.4366091973685\n",
      "Feature is : 7 and score is 95.48158872899123\n",
      "Feature is : 8 and score is 128.34511454142105\n",
      "Feature is : 9 and score is 212.7661560062174\n",
      "Feature is : 10 and score is 22.91773250541424\n"
     ]
    }
   ],
   "source": [
    "for i in range(len(fs.scores_)):\n",
    "    print(f\"Feature is : {i} and score is {fs.scores_[i]}\")"
   ]
  },
  {
   "cell_type": "code",
   "execution_count": 30,
   "id": "b655d769",
   "metadata": {},
   "outputs": [
    {
     "data": {
      "image/png": "[encoded data removed]",
      "text/plain": [
       "<Figure size 640x480 with 1 Axes>"
      ]
     },
     "metadata": {},
     "output_type": "display_data"
    }
   ],
   "source": [
    "plt.bar([ i for i in range( len(fs.scores_))], fs.scores_)\n",
    "plt.show()"
   ]
  },
  {
   "cell_type": "code",
   "execution_count": 31,
   "id": "d5404874",
   "metadata": {},
   "outputs": [],
   "source": [
    "fs = SelectKBest(score_func= f_regression, k = 9)"
   ]
  },
  {
   "cell_type": "code",
   "execution_count": 32,
   "id": "843be9b8",
   "metadata": {},
   "outputs": [
    {
     "data": {
      "text/html": [
       "<style>#sk-container-id-2 {color: black;background-color: white;}#sk-container-id-2 pre{padding: 0;}#sk-container-id-2 div.sk-toggleable {background-color: white;}#sk-container-id-2 label.sk-toggleable__label {cursor: pointer;display: block;width: 100%;margin-bottom: 0;padding: 0.3em;box-sizing: border-box;text-align: center;}#sk-container-id-2 label.sk-toggleable__label-arrow:before {content: \"▸\";float: left;margin-right: 0.25em;color: #696969;}#sk-container-id-2 label.sk-toggleable__label-arrow:hover:before {color: black;}#sk-container-id-2 div.sk-estimator:hover label.sk-toggleable__label-arrow:before {color: black;}#sk-container-id-2 div.sk-toggleable__content {max-height: 0;max-width: 0;overflow: hidden;text-align: left;background-color: #f0f8ff;}#sk-container-id-2 div.sk-toggleable__content pre {margin: 0.2em;color: black;border-radius: 0.25em;background-color: #f0f8ff;}#sk-container-id-2 input.sk-toggleable__control:checked~div.sk-toggleable__content {max-height: 200px;max-width: 100%;overflow: auto;}#sk-container-id-2 input.sk-toggleable__control:checked~label.sk-toggleable__label-arrow:before {content: \"▾\";}#sk-container-id-2 div.sk-estimator input.sk-toggleable__control:checked~label.sk-toggleable__label {background-color: #d4ebff;}#sk-container-id-2 div.sk-label input.sk-toggleable__control:checked~label.sk-toggleable__label {background-color: #d4ebff;}#sk-container-id-2 input.sk-hidden--visually {border: 0;clip: rect(1px 1px 1px 1px);clip: rect(1px, 1px, 1px, 1px);height: 1px;margin: -1px;overflow: hidden;padding: 0;position: absolute;width: 1px;}#sk-container-id-2 div.sk-estimator {font-family: monospace;background-color: #f0f8ff;border: 1px dotted black;border-radius: 0.25em;box-sizing: border-box;margin-bottom: 0.5em;}#sk-container-id-2 div.sk-estimator:hover {background-color: #d4ebff;}#sk-container-id-2 div.sk-parallel-item::after {content: \"\";width: 100%;border-bottom: 1px solid gray;flex-grow: 1;}#sk-container-id-2 div.sk-label:hover label.sk-toggleable__label {background-color: #d4ebff;}#sk-container-id-2 div.sk-serial::before {content: \"\";position: absolute;border-left: 1px solid gray;box-sizing: border-box;top: 0;bottom: 0;left: 50%;z-index: 0;}#sk-container-id-2 div.sk-serial {display: flex;flex-direction: column;align-items: center;background-color: white;padding-right: 0.2em;padding-left: 0.2em;position: relative;}#sk-container-id-2 div.sk-item {position: relative;z-index: 1;}#sk-container-id-2 div.sk-parallel {display: flex;align-items: stretch;justify-content: center;background-color: white;position: relative;}#sk-container-id-2 div.sk-item::before, #sk-container-id-2 div.sk-parallel-item::before {content: \"\";position: absolute;border-left: 1px solid gray;box-sizing: border-box;top: 0;bottom: 0;left: 50%;z-index: -1;}#sk-container-id-2 div.sk-parallel-item {display: flex;flex-direction: column;z-index: 1;position: relative;background-color: white;}#sk-container-id-2 div.sk-parallel-item:first-child::after {align-self: flex-end;width: 50%;}#sk-container-id-2 div.sk-parallel-item:last-child::after {align-self: flex-start;width: 50%;}#sk-container-id-2 div.sk-parallel-item:only-child::after {width: 0;}#sk-container-id-2 div.sk-dashed-wrapped {border: 1px dashed gray;margin: 0 0.4em 0.5em 0.4em;box-sizing: border-box;padding-bottom: 0.4em;background-color: white;}#sk-container-id-2 div.sk-label label {font-family: monospace;font-weight: bold;display: inline-block;line-height: 1.2em;}#sk-container-id-2 div.sk-label-container {text-align: center;}#sk-container-id-2 div.sk-container {/* jupyter's `normalize.less` sets `[hidden] { display: none; }` but bootstrap.min.css set `[hidden] { display: none !important; }` so we also need the `!important` here to be able to override the default hidden behavior on the sphinx rendered scikit-learn.org. See: https://github.com/scikit-learn/scikit-learn/issues/21755 */display: inline-block !important;position: relative;}#sk-container-id-2 div.sk-text-repr-fallback {display: none;}</style><div id=\"sk-container-id-2\" class=\"sk-top-container\"><div class=\"sk-text-repr-fallback\"><pre>SelectKBest(k=9, score_func=&lt;function f_regression at 0x000001A3AD830DC0&gt;)</pre><b>In a Jupyter environment, please rerun this cell to show the HTML representation or trust the notebook. <br />On GitHub, the HTML representation is unable to render, please try loading this page with nbviewer.org.</b></div><div class=\"sk-container\" hidden><div class=\"sk-item\"><div class=\"sk-estimator sk-toggleable\"><input class=\"sk-toggleable__control sk-hidden--visually\" id=\"sk-estimator-id-2\" type=\"checkbox\" checked><label for=\"sk-estimator-id-2\" class=\"sk-toggleable__label sk-toggleable__label-arrow\">SelectKBest</label><div class=\"sk-toggleable__content\"><pre>SelectKBest(k=9, score_func=&lt;function f_regression at 0x000001A3AD830DC0&gt;)</pre></div></div></div></div></div>"
      ],
      "text/plain": [
       "SelectKBest(k=9, score_func=<function f_regression at 0x000001A3AD830DC0>)"
      ]
     },
     "execution_count": 32,
     "metadata": {},
     "output_type": "execute_result"
    }
   ],
   "source": [
    "fs.fit(x_train, y_train)"
   ]
  },
  {
   "cell_type": "code",
   "execution_count": 33,
   "id": "7a2f5cb3",
   "metadata": {},
   "outputs": [],
   "source": [
    "x_train_fs = fs.transform(x_train)\n",
    "x_test_fs = fs.transform(x_test)"
   ]
  },
  {
   "cell_type": "code",
   "execution_count": 34,
   "id": "d58ed4df",
   "metadata": {},
   "outputs": [],
   "source": [
    "models = {\n",
    "   'GradientBoostingRegressor' : GradientBoostingRegressor(random_state= 42)}"
   ]
  },
  {
   "cell_type": "code",
   "execution_count": 35,
   "id": "18ea5458",
   "metadata": {},
   "outputs": [
    {
     "name": "stdout",
     "output_type": "stream",
     "text": [
      "Model trained with GradientBoostingRegressor\n",
      "r2_score is :  81.76544013642551\n",
      "Training score is :  91.48841190666042\n",
      "Testing score is :  81.76544013642551\n",
      "Mean absolute error is :  181.50057664919314\n",
      "Mean squared error is :  64838.12040829031\n",
      "RMSE is :  254.63330577183007\n",
      "****************************************************************************************************\n"
     ]
    }
   ],
   "source": [
    "for name, model in models.items():\n",
    "    model.fit(x_train_fs, y_train)\n",
    "    print(\"Model trained with {}\".format(name))\n",
    "    training_score = model.score(x_train_fs, y_train)*100\n",
    "    testing_score = model.score(x_test_fs, y_test)*100\n",
    "    score = r2_score(y_test, model.predict(x_test_fs))*100\n",
    "    mae = mean_absolute_error(y_test, model.predict(x_test_fs))\n",
    "    mse = mean_squared_error(y_test, model.predict(x_test_fs))\n",
    "    rmse = np.sqrt(mse)\n",
    "    print(\"r2_score is : \", score)\n",
    "    print(\"Training score is : \", training_score)\n",
    "    print(\"Testing score is : \", testing_score)\n",
    "    print(\"Mean absolute error is : \", mae)\n",
    "    print(\"Mean squared error is : \", mse)\n",
    "    print(\"RMSE is : \", rmse)\n",
    "    print('*'*100)"
   ]
  },
  {
   "cell_type": "code",
   "execution_count": 36,
   "id": "79d30db8",
   "metadata": {},
   "outputs": [],
   "source": [
    "model = GradientBoostingRegressor(learning_rate= 0.1, n_estimators= 149, random_state= 76)"
   ]
  },
  {
   "cell_type": "code",
   "execution_count": 37,
   "id": "e11e552c",
   "metadata": {},
   "outputs": [
    {
     "data": {
      "text/html": [
       "<style>#sk-container-id-3 {color: black;background-color: white;}#sk-container-id-3 pre{padding: 0;}#sk-container-id-3 div.sk-toggleable {background-color: white;}#sk-container-id-3 label.sk-toggleable__label {cursor: pointer;display: block;width: 100%;margin-bottom: 0;padding: 0.3em;box-sizing: border-box;text-align: center;}#sk-container-id-3 label.sk-toggleable__label-arrow:before {content: \"▸\";float: left;margin-right: 0.25em;color: #696969;}#sk-container-id-3 label.sk-toggleable__label-arrow:hover:before {color: black;}#sk-container-id-3 div.sk-estimator:hover label.sk-toggleable__label-arrow:before {color: black;}#sk-container-id-3 div.sk-toggleable__content {max-height: 0;max-width: 0;overflow: hidden;text-align: left;background-color: #f0f8ff;}#sk-container-id-3 div.sk-toggleable__content pre {margin: 0.2em;color: black;border-radius: 0.25em;background-color: #f0f8ff;}#sk-container-id-3 input.sk-toggleable__control:checked~div.sk-toggleable__content {max-height: 200px;max-width: 100%;overflow: auto;}#sk-container-id-3 input.sk-toggleable__control:checked~label.sk-toggleable__label-arrow:before {content: \"▾\";}#sk-container-id-3 div.sk-estimator input.sk-toggleable__control:checked~label.sk-toggleable__label {background-color: #d4ebff;}#sk-container-id-3 div.sk-label input.sk-toggleable__control:checked~label.sk-toggleable__label {background-color: #d4ebff;}#sk-container-id-3 input.sk-hidden--visually {border: 0;clip: rect(1px 1px 1px 1px);clip: rect(1px, 1px, 1px, 1px);height: 1px;margin: -1px;overflow: hidden;padding: 0;position: absolute;width: 1px;}#sk-container-id-3 div.sk-estimator {font-family: monospace;background-color: #f0f8ff;border: 1px dotted black;border-radius: 0.25em;box-sizing: border-box;margin-bottom: 0.5em;}#sk-container-id-3 div.sk-estimator:hover {background-color: #d4ebff;}#sk-container-id-3 div.sk-parallel-item::after {content: \"\";width: 100%;border-bottom: 1px solid gray;flex-grow: 1;}#sk-container-id-3 div.sk-label:hover label.sk-toggleable__label {background-color: #d4ebff;}#sk-container-id-3 div.sk-serial::before {content: \"\";position: absolute;border-left: 1px solid gray;box-sizing: border-box;top: 0;bottom: 0;left: 50%;z-index: 0;}#sk-container-id-3 div.sk-serial {display: flex;flex-direction: column;align-items: center;background-color: white;padding-right: 0.2em;padding-left: 0.2em;position: relative;}#sk-container-id-3 div.sk-item {position: relative;z-index: 1;}#sk-container-id-3 div.sk-parallel {display: flex;align-items: stretch;justify-content: center;background-color: white;position: relative;}#sk-container-id-3 div.sk-item::before, #sk-container-id-3 div.sk-parallel-item::before {content: \"\";position: absolute;border-left: 1px solid gray;box-sizing: border-box;top: 0;bottom: 0;left: 50%;z-index: -1;}#sk-container-id-3 div.sk-parallel-item {display: flex;flex-direction: column;z-index: 1;position: relative;background-color: white;}#sk-container-id-3 div.sk-parallel-item:first-child::after {align-self: flex-end;width: 50%;}#sk-container-id-3 div.sk-parallel-item:last-child::after {align-self: flex-start;width: 50%;}#sk-container-id-3 div.sk-parallel-item:only-child::after {width: 0;}#sk-container-id-3 div.sk-dashed-wrapped {border: 1px dashed gray;margin: 0 0.4em 0.5em 0.4em;box-sizing: border-box;padding-bottom: 0.4em;background-color: white;}#sk-container-id-3 div.sk-label label {font-family: monospace;font-weight: bold;display: inline-block;line-height: 1.2em;}#sk-container-id-3 div.sk-label-container {text-align: center;}#sk-container-id-3 div.sk-container {/* jupyter's `normalize.less` sets `[hidden] { display: none; }` but bootstrap.min.css set `[hidden] { display: none !important; }` so we also need the `!important` here to be able to override the default hidden behavior on the sphinx rendered scikit-learn.org. See: https://github.com/scikit-learn/scikit-learn/issues/21755 */display: inline-block !important;position: relative;}#sk-container-id-3 div.sk-text-repr-fallback {display: none;}</style><div id=\"sk-container-id-3\" class=\"sk-top-container\"><div class=\"sk-text-repr-fallback\"><pre>GradientBoostingRegressor(n_estimators=149, random_state=76)</pre><b>In a Jupyter environment, please rerun this cell to show the HTML representation or trust the notebook. <br />On GitHub, the HTML representation is unable to render, please try loading this page with nbviewer.org.</b></div><div class=\"sk-container\" hidden><div class=\"sk-item\"><div class=\"sk-estimator sk-toggleable\"><input class=\"sk-toggleable__control sk-hidden--visually\" id=\"sk-estimator-id-3\" type=\"checkbox\" checked><label for=\"sk-estimator-id-3\" class=\"sk-toggleable__label sk-toggleable__label-arrow\">GradientBoostingRegressor</label><div class=\"sk-toggleable__content\"><pre>GradientBoostingRegressor(n_estimators=149, random_state=76)</pre></div></div></div></div></div>"
      ],
      "text/plain": [
       "GradientBoostingRegressor(n_estimators=149, random_state=76)"
      ]
     },
     "execution_count": 37,
     "metadata": {},
     "output_type": "execute_result"
    }
   ],
   "source": [
    "model.fit(x_train_fs, y_train)"
   ]
  },
  {
   "cell_type": "code",
   "execution_count": 38,
   "id": "5884c183",
   "metadata": {},
   "outputs": [],
   "source": [
    "y_pred = model.predict(x_test_fs)"
   ]
  },
  {
   "cell_type": "code",
   "execution_count": 39,
   "id": "52d45d9e",
   "metadata": {},
   "outputs": [
    {
     "data": {
      "text/plain": [
       "0.9263840466544327"
      ]
     },
     "execution_count": 39,
     "metadata": {},
     "output_type": "execute_result"
    }
   ],
   "source": [
    "model.score(x_train_fs, y_train)"
   ]
  },
  {
   "cell_type": "code",
   "execution_count": 40,
   "id": "bc27d848",
   "metadata": {},
   "outputs": [
    {
     "data": {
      "text/plain": [
       "0.8267850433770447"
      ]
     },
     "execution_count": 40,
     "metadata": {},
     "output_type": "execute_result"
    }
   ],
   "source": [
    "model.score(x_test_fs, y_test)"
   ]
  },
  {
   "cell_type": "code",
   "execution_count": 41,
   "id": "d2e528a1",
   "metadata": {},
   "outputs": [
    {
     "data": {
      "text/plain": [
       "0.799154606939858"
      ]
     },
     "execution_count": 41,
     "metadata": {},
     "output_type": "execute_result"
    }
   ],
   "source": [
    "r2_score(y_pred, y_test)"
   ]
  },
  {
   "cell_type": "code",
   "execution_count": 42,
   "id": "50326aa5",
   "metadata": {},
   "outputs": [],
   "source": [
    "pickle.dump(model,open('MODEL.pkl', 'wb'))"
   ]
  }
 ],
 "metadata": {
  "kernelspec": {
   "display_name": "Python 3 (ipykernel)",
   "language": "python",
   "name": "python3"
  },
  "language_info": {
   "codemirror_mode": {
    "name": "ipython",
    "version": 3
   },
   "file_extension": ".py",
   "mimetype": "text/x-python",
   "name": "python",
   "nbconvert_exporter": "python",
   "pygments_lexer": "ipython3",
   "version": "3.10.9"
  }
 },
 "nbformat": 4,
 "nbformat_minor": 5
}
